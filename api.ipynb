{
 "cells": [
  {
   "cell_type": "code",
   "execution_count": 28,
   "id": "fd54a4b1-8274-42e5-9730-dda76ddb419b",
   "metadata": {},
   "outputs": [
    {
     "name": "stdout",
     "output_type": "stream",
     "text": [
      "Datos para AAPL entre 2024-11-01 y 2024-11-07:\n",
      "2024-11-07: {'1. open': '224.6250', '2. high': '227.8750', '3. low': '224.5700', '4. close': '227.4800', '5. volume': '42137691'}\n",
      "2024-11-06: {'1. open': '222.6100', '2. high': '226.0650', '3. low': '221.1900', '4. close': '222.7200', '5. volume': '54561121'}\n",
      "2024-11-05: {'1. open': '221.7950', '2. high': '223.9500', '3. low': '221.1400', '4. close': '223.4500', '5. volume': '28111338'}\n",
      "2024-11-04: {'1. open': '220.9900', '2. high': '222.7900', '3. low': '219.7100', '4. close': '222.0100', '5. volume': '44944468'}\n",
      "2024-11-01: {'1. open': '220.9650', '2. high': '225.3500', '3. low': '220.2700', '4. close': '222.9100', '5. volume': '65276741'}\n"
     ]
    }
   ],
   "source": [
    "import requests\n",
    "\n",
    "def obtener_datos_alpha_vantage(ticker, fecha_inicio, fecha_fin):\n",
    "    api_key = \"SKFVCGWGLDMAR34N\"\n",
    "    base_url = \"https://www.alphavantage.co/query\"\n",
    "    \n",
    "    parametros = {\n",
    "        \"function\": \"TIME_SERIES_DAILY\",  # Datos diarios ajustados\n",
    "        \"symbol\": ticker,\n",
    "        \"apikey\": api_key,\n",
    "        \"outputsize\": \"full\"  # Devuelve datos históricos completos\n",
    "    }\n",
    "\n",
    "    respuesta = requests.get(base_url, params=parametros)\n",
    "\n",
    "    if respuesta.status_code == 200:\n",
    "        datos = respuesta.json()\n",
    "        # Filtrar fechas y devolver solo las relevantes\n",
    "        serie_temporal = datos.get(\"Time Series (Daily)\", {})\n",
    "        datos_filtrados = {\n",
    "            fecha: info for fecha, info in serie_temporal.items()\n",
    "            if fecha_inicio <= fecha <= fecha_fin\n",
    "        }\n",
    "        return datos_filtrados\n",
    "    else:\n",
    "        print(\"Error al consultar la API:\", respuesta.status_code)\n",
    "        return None\n",
    "\n",
    "# Ejemplo de uso\n",
    "ticker = \"AAPL\"\n",
    "fecha_inicio = \"2024-11-01\"\n",
    "fecha_fin = \"2024-11-07\"\n",
    "\n",
    "datos = obtener_datos_alpha_vantage(ticker, fecha_inicio, fecha_fin)\n",
    "if datos:\n",
    "    print(f\"Datos para {ticker} entre {fecha_inicio} y {fecha_fin}:\")\n",
    "    for fecha, info in datos.items():\n",
    "        print(f\"{fecha}: {info}\")"
   ]
  }
 ],
 "metadata": {
  "kernelspec": {
   "display_name": "Python 3 (ipykernel)",
   "language": "python",
   "name": "python3"
  },
  "language_info": {
   "codemirror_mode": {
    "name": "ipython",
    "version": 3
   },
   "file_extension": ".py",
   "mimetype": "text/x-python",
   "name": "python",
   "nbconvert_exporter": "python",
   "pygments_lexer": "ipython3",
   "version": "3.10.13"
  }
 },
 "nbformat": 4,
 "nbformat_minor": 5
}
